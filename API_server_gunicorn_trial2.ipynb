{
  "nbformat": 4,
  "nbformat_minor": 0,
  "metadata": {
    "colab": {
      "name": "API_server_gunicorn_trial2.ipynb",
      "provenance": [],
      "collapsed_sections": [],
      "private_outputs": true
    },
    "kernelspec": {
      "name": "python3",
      "display_name": "Python 3"
    },
    "language_info": {
      "name": "python"
    }
  },
  "cells": [
    {
      "cell_type": "markdown",
      "source": [
        "チャイム音をマイクでステレオ録音したWAVファイルを入力して、L channelとR channelの音の時間差をpythonを使って推定して、その結果画像を表示するFlaskとajaxを使ったWeb Appを、アプリケーションサーバーのGunicornと、ngorkを使ってgoogle colab上で動作実験するもの。"
      ],
      "metadata": {
        "id": "QfURXBknLXu8"
      }
    },
    {
      "cell_type": "markdown",
      "source": [
        "ソースをcloneして、google colab上に展開する。"
      ],
      "metadata": {
        "id": "ds7U-5LmMnaA"
      }
    },
    {
      "cell_type": "code",
      "source": [
        "!git clone https://github.com/shun60s/time-difference-WebApp"
      ],
      "metadata": {
        "id": "8-DvHeEYwN0j"
      },
      "execution_count": null,
      "outputs": []
    },
    {
      "cell_type": "markdown",
      "source": [
        "作業ディレクトリーを変更する。"
      ],
      "metadata": {
        "id": "1vsmo2F1VR36"
      }
    },
    {
      "cell_type": "code",
      "source": [
        "%cd time-difference-WebApp/"
      ],
      "metadata": {
        "id": "7ZCEB9Z6wS2C"
      },
      "execution_count": null,
      "outputs": []
    },
    {
      "cell_type": "markdown",
      "source": [
        "Gunicorn をインストールする。\n"
      ],
      "metadata": {
        "id": "Zkk2esrANsBg"
      }
    },
    {
      "cell_type": "code",
      "source": [
        "!pip install Gunicorn"
      ],
      "metadata": {
        "id": "3fFabMYMNlU_"
      },
      "execution_count": null,
      "outputs": []
    },
    {
      "cell_type": "markdown",
      "source": [
        "ngorkを使うためngrokをダウンロードする。"
      ],
      "metadata": {
        "id": "PnVGRxhwLu9s"
      }
    },
    {
      "cell_type": "code",
      "execution_count": null,
      "metadata": {
        "id": "w8wPGCOyNb5G"
      },
      "outputs": [],
      "source": [
        "!wget https://bin.equinox.io/c/4VmDzA7iaHb/ngrok-stable-linux-amd64.zip\n",
        "!unzip ngrok-stable-linux-amd64.zip"
      ]
    },
    {
      "cell_type": "markdown",
      "source": [
        "ngorkのauthtokenを設定する。PUT_YOUR_OWN_authtoken_HEREを書き換える。"
      ],
      "metadata": {
        "id": "jscpBeOPL9xB"
      }
    },
    {
      "cell_type": "code",
      "source": [
        "!./ngrok authtoken PUT_YOUR_OWN_authtoken_HERE"
      ],
      "metadata": {
        "id": "RK343ohEO0bF"
      },
      "execution_count": null,
      "outputs": []
    },
    {
      "cell_type": "markdown",
      "source": [
        "ngorkのurlを得る。何度も失敗するが、\n",
        "http://252a-34-91-175-148.ngrok.io\n",
        "のようなurlが表示されるまで、繰り返し実行してみる。"
      ],
      "metadata": {
        "id": "Xq8n4j1wMIt4"
      }
    },
    {
      "cell_type": "code",
      "source": [
        "get_ipython().system_raw('./ngrok http 8000 &')\n",
        "!curl -s http://localhost:4040/api/tunnels | python3 -c  \"import sys, json; print(json.load(sys.stdin)['tunnels'][0]['public_url'])\""
      ],
      "metadata": {
        "id": "Upvf7epiNr05"
      },
      "execution_count": null,
      "outputs": []
    },
    {
      "cell_type": "markdown",
      "source": [
        "Gunicorn サーバーで Flask を起動する。\n"
      ],
      "metadata": {
        "id": "182o0P3pTiz3"
      }
    },
    {
      "cell_type": "code",
      "source": [
        "!gunicorn api_server_trial1:app"
      ],
      "metadata": {
        "id": "aQ0MbS7dOuEG"
      },
      "execution_count": null,
      "outputs": []
    },
    {
      "cell_type": "markdown",
      "source": [
        "Flaskの組み込みサーバーを使う場合。事前の動作確認用。\n"
      ],
      "metadata": {
        "id": "rWyEUGLIOwgB"
      }
    },
    {
      "cell_type": "code",
      "source": [
        "\n",
        "import os\n",
        "from flask import Flask, request, jsonify\n",
        "from flask import render_template\n",
        "from werkzeug.utils import secure_filename\n",
        "import queue\n",
        "import time\n",
        "import uuid\n",
        "import json\n",
        "\n",
        "from tde1 import *\n",
        "\n",
        "# wavのアップロード先のディレクトリ\n",
        "UPLOAD_FOLDER = './uploads'\n",
        "# アップロードされる拡張子の制限\n",
        "ALLOWED_EXTENSIONS = set(['wav'])\n",
        "# 結果画像が保存されるディレクトリ\n",
        "RESULT_FOLDER = './static/figure'\n",
        "# エラーが発生したときの画像\n",
        "ERROR_FIGURE = './static/figure/figure/error.png'\n",
        "# 空白の画像\n",
        "BLANK_FIGURE = './static/figure/figure/blank.png'\n",
        "# 多重実行制御用のキュー\n",
        "singleQueue = queue.Queue(maxsize=1)\n",
        "\n",
        "app = Flask(__name__)  #, static_folder=RESULT_FOLDER)\n",
        "\n",
        "app.config['UPLOAD_FOLDER'] = UPLOAD_FOLDER\n",
        "app.config['RESULT_FOLDER'] = RESULT_FOLDER\n",
        "app.config['ERROR_FIGURE'] = ERROR_FIGURE\n",
        "app.config['BLANK_FIGURE'] = BLANK_FIGURE\n",
        "\n",
        "# アップロードされる容量を制限する\n",
        "app.config['MAX_CONTENT_LENGTH'] = 2 * 2 * 44100 * 15\n",
        "\n",
        "\n",
        "# 時間差を推定するインスタンスを作成する\n",
        "tde= time_difference_estimation('sample_wav/chime_only.wav', 1, 0,save_dir='static/figure/',SHOW_PLOT=False, ShowOntheWay=False, SHOW_PLOT2=False)\n",
        "\n",
        "\n",
        "def allwed_file(filename):\n",
        "    # .があるかどうかのチェックと、拡張子の確認\n",
        "    # OKなら１、だめなら0\n",
        "    return '.' in filename and filename.rsplit('.', 1)[1].lower() in ALLOWED_EXTENSIONS\n",
        "\n",
        "# トップページ\n",
        "@app.route(\"/\")\n",
        "def index():\n",
        "    return render_template('index-ajax.html', filename=app.config['BLANK_FIGURE'])\n",
        "\n",
        "# ファイルを受け取る方法の指定\n",
        "@app.route('/upload', methods=['POST'])\n",
        "def upload_and_tde():\n",
        "    # リクエストがポストかどうかの判別\n",
        "    if request.method == 'POST':\n",
        "        # ファイルがなかった場合の処理\n",
        "        if 'file' not in request.files:\n",
        "            return jsonify(filename=app.config['ERROR_FIGURE'], t_time=0, rt_code=0)\n",
        "        # データの取り出し\n",
        "        file = request.files['file']\n",
        "        # ファイル名がなかった時の処理\n",
        "        if file.filename == '':\n",
        "\t        return jsonify(filename=app.config['ERROR_FIGURE'], t_time=0, rt_code=0)\n",
        "        # ファイルのチェック\n",
        "        if file and allwed_file(file.filename):\n",
        "        # 危険な文字を削除（サニタイズ処理）\n",
        "            filename = secure_filename(file.filename)\n",
        "            #　ファイル名をユニークなもにする\n",
        "            title=filename\n",
        "            filename=str(uuid.uuid1()) + '___'+ filename\n",
        "            #print ('filename, title', filename, title)\n",
        "            # ファイルの保存\n",
        "            file_path= os.path.join(app.config['UPLOAD_FOLDER'], filename)\n",
        "            file.save( file_path)\n",
        "\n",
        "            # 実行しているものを1回分だけに制御する\n",
        "            singleQueue.put(time.time()) \n",
        "            # 時間差を推定する　\n",
        "            rt_code,t_time= tde.main0( file_path, title=title)\n",
        "            # 制限の解除\n",
        "            singleQueue.get()\n",
        "            singleQueue.task_done()\n",
        "            # 推定結果画像の場所を返す\n",
        "            if rt_code:\n",
        "                rt_codes=1\n",
        "                filename=os.path.join(app.config['RESULT_FOLDER'],filename)\n",
        "                filename_png= os.path.join(app.config['RESULT_FOLDER'], os.path.splitext(os.path.basename(filename))[0]+'.png')\n",
        "                return jsonify(filename=filename_png, t_time=t_time, rt_code=rt_code)\n",
        "            else:  # tdeの中でエラー発生\n",
        "                rt_codes=0\n",
        "                return jsonify(filename=app.config['ERROR_FIGURE'], t_time=0, rt_code=rt_code)\n",
        "            \n",
        "        else:\n",
        "            return jsonify(filename=app.config['ERROR_FIGURE'], t_time=0, rt_code=0)\n",
        "\n",
        "\n",
        "if __name__ == \"__main__\":\n",
        "    # サーバーを起動する\n",
        "    app.run(port=8000, threaded=True) "
      ],
      "metadata": {
        "id": "NnEc-rN-2TnG"
      },
      "execution_count": null,
      "outputs": []
    }
  ]
}
