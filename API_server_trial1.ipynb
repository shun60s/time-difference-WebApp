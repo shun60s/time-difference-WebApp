{
  "nbformat": 4,
  "nbformat_minor": 0,
  "metadata": {
    "colab": {
      "name": "API_server_trial1.ipynb",
      "provenance": [],
      "collapsed_sections": [],
      "private_outputs": true
    },
    "kernelspec": {
      "name": "python3",
      "display_name": "Python 3"
    },
    "language_info": {
      "name": "python"
    }
  },
  "cells": [
    {
      "cell_type": "code",
      "source": [
        "!git clone https://github.com/shun60s/time-difference-WebApp"
      ],
      "metadata": {
        "id": "8-DvHeEYwN0j"
      },
      "execution_count": null,
      "outputs": []
    },
    {
      "cell_type": "code",
      "source": [
        "%cd time-difference-WebApp/"
      ],
      "metadata": {
        "id": "7ZCEB9Z6wS2C"
      },
      "execution_count": null,
      "outputs": []
    },
    {
      "cell_type": "code",
      "source": [
        "!pwd"
      ],
      "metadata": {
        "id": "ZJmv4zKkw7iZ"
      },
      "execution_count": null,
      "outputs": []
    },
    {
      "cell_type": "code",
      "execution_count": null,
      "metadata": {
        "id": "w8wPGCOyNb5G"
      },
      "outputs": [],
      "source": [
        "!wget https://bin.equinox.io/c/4VmDzA7iaHb/ngrok-stable-linux-amd64.zip\n",
        "!unzip ngrok-stable-linux-amd64.zip"
      ]
    },
    {
      "cell_type": "code",
      "source": [
        "!./ngrok authtoken put_your_authtoken_here"
      ],
      "metadata": {
        "id": "RK343ohEO0bF"
      },
      "execution_count": null,
      "outputs": []
    },
    {
      "cell_type": "code",
      "source": [
        "get_ipython().system_raw('./ngrok http 6006 &')\n",
        "!curl -s http://localhost:4040/api/tunnels | python3 -c  \"import sys, json; print(json.load(sys.stdin)['tunnels'][0]['public_url'])\""
      ],
      "metadata": {
        "id": "Upvf7epiNr05"
      },
      "execution_count": null,
      "outputs": []
    },
    {
      "cell_type": "code",
      "source": [
        "#@title\n",
        "# Flaskで画像ファイルをアップロード\n",
        "# from \"https://qiita.com/keimoriyama/items/7c935c91e95d857714fb\"\n",
        "\n",
        "\n",
        "\n",
        "import os\n",
        "# request フォームから送信した情報を扱うためのモジュール\n",
        "# redirect  ページの移動\n",
        "# url_for アドレス遷移\n",
        "from flask import Flask, request, redirect, url_for\n",
        "# ファイル名をチェックする関数\n",
        "from werkzeug.utils import secure_filename\n",
        "# 画像のダウンロード\n",
        "from flask import send_from_directory\n",
        "\n",
        "# 画像のアップロード先のディレクトリを　あらかじめ作っておく  also templates\n",
        "UPLOAD_FOLDER = './uploads'\n",
        "# アップロードされる拡張子の制限\n",
        "ALLOWED_EXTENSIONS = set(['png', 'jpg', 'gif'])\n",
        "\n",
        "app = Flask(__name__)\n",
        "\n",
        "app.config['UPLOAD_FOLDER'] = UPLOAD_FOLDER\n",
        "\n",
        "\n",
        "def allwed_file(filename):\n",
        "    # .があるかどうかのチェックと、拡張子の確認\n",
        "    # OKなら１、だめなら0\n",
        "    return '.' in filename and filename.rsplit('.', 1)[1].lower() in ALLOWED_EXTENSIONS\n",
        "\n",
        "# ファイルを受け取る方法の指定\n",
        "@app.route('/', methods=['GET', 'POST'])\n",
        "def uploads_file():\n",
        "    # リクエストがポストかどうかの判別\n",
        "    if request.method == 'POST':\n",
        "        # ファイルがなかった場合の処理\n",
        "        if 'file' not in request.files:\n",
        "            flash('ファイルがありません')\n",
        "            return redirect(request.url)\n",
        "        # データの取り出し\n",
        "        file = request.files['file']\n",
        "        # ファイル名がなかった時の処理\n",
        "        if file.filename == '':\n",
        "            flash('ファイルがありません')\n",
        "            return redirect(request.url)\n",
        "        # ファイルのチェック\n",
        "        if file and allwed_file(file.filename):\n",
        "            # 危険な文字を削除（サニタイズ処理）\n",
        "            filename = secure_filename(file.filename)\n",
        "            # ファイルの保存\n",
        "            file.save(os.path.join(app.config['UPLOAD_FOLDER'], filename))\n",
        "            # アップロード後のページに転送\n",
        "            return redirect(url_for('uploaded_file', filename=filename))\n",
        "    return '''\n",
        "    <!doctype html>\n",
        "    <html>\n",
        "        <head>\n",
        "            <meta charset=\"UTF-8\">\n",
        "            <title>\n",
        "                ファイルをアップロードして判定しよう\n",
        "            </title>\n",
        "        </head>\n",
        "        <body>\n",
        "            <h1>\n",
        "                ファイルをアップロードして判定しよう\n",
        "            </h1>\n",
        "            <form method = post enctype = multipart/form-data>\n",
        "            <p><input type=file name = file>\n",
        "            <input type = submit value = Upload>\n",
        "            </form>\n",
        "        </body>\n",
        "'''\n",
        "\n",
        "@app.route('/uploads/<filename>')\n",
        "# ファイルを表示する\n",
        "def uploaded_file(filename):\n",
        "    return send_from_directory(app.config['UPLOAD_FOLDER'], filename)\n",
        "\n",
        "\n",
        "if __name__ == \"__main__\":\n",
        "    app.run(port=6006, threaded=True)"
      ],
      "metadata": {
        "id": "jHQH8679GXe5"
      },
      "execution_count": null,
      "outputs": []
    }
  ]
}